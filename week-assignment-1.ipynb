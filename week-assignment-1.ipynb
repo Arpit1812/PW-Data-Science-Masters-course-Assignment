{
 "cells": [
  {
   "cell_type": "markdown",
   "id": "9dbcf7f9-204a-4f5c-aaec-b9d9ca8ed8c7",
   "metadata": {},
   "source": [
    "Question/Answer 1 Creating varibales for each of the data types: - \n",
    "(i)\tstring\n",
    "\n",
    "(ii) list\n",
    "\n",
    "(iii) float\n",
    "\n",
    "(iv) tuple\n",
    "\n"
   ]
  },
  {
   "cell_type": "code",
   "execution_count": 1,
   "id": "c05f39c2-194c-4dfb-8d46-62d142b29b80",
   "metadata": {},
   "outputs": [
    {
     "name": "stdout",
     "output_type": "stream",
     "text": [
      "['Arpit', ['Dragon', 1, 2.6], 18.0, (18, 9)]\n"
     ]
    }
   ],
   "source": [
    "#Ans1:\n",
    "var = [\"Arpit\", [\"Dragon\",1,2.6], 18.00, (18,9)]\n",
    "print(var)"
   ]
  },
  {
   "cell_type": "markdown",
   "id": "7d56d393-49e3-4405-ba13-9bbeadefb50a",
   "metadata": {},
   "source": [
    "Q2. Given are some following variables containing data:\n",
    "\n",
    "(i)\tvar1 = ‘ ‘\n",
    "\n",
    "(ii)\tvar2 = ‘[ DS , ML , Python]’\n",
    "\n",
    "(iii)\tvar3 = [ ‘DS’ , ’ML’ , ‘Python’ ]\n",
    "\n",
    "(iv)\tvar4 = 1.\n",
    "\n",
    "What will be the data type of the above given variable."
   ]
  },
  {
   "cell_type": "markdown",
   "id": "9ad3a507-99f7-422d-afe0-64b880edb260",
   "metadata": {},
   "source": [
    "Ans 2: \n",
    "i). String\n",
    "ii). String\n",
    "iii). List\n",
    "iv). Float\n"
   ]
  },
  {
   "cell_type": "markdown",
   "id": "8b911605-09c1-4d5c-ace0-604cd8257cdf",
   "metadata": {},
   "source": [
    "Q3. Explain the use of the following operators using an example:\n",
    "\n",
    "(i)\t/\n",
    "\n",
    "(ii)\t% \n",
    "\n",
    "(iii)\t//\n",
    "\n",
    "(iv)\t**"
   ]
  },
  {
   "cell_type": "markdown",
   "id": "3f00e387-583c-4b90-b9b2-accaeff29922",
   "metadata": {},
   "source": [
    "Ans 3: \n",
    "\n",
    "(i) / is the division operator. It is used to divide one number by another. For example, 10 / 2 = 5.\n",
    "\n",
    "(ii) % is the modulus operator. It returns the remainder of a division operation. For example, 10 % 3 = 1.\n",
    "\n",
    "(iii) // is the floor division operator. It returns the quotient of a division operation rounded down to the nearest integer. For example, 10 // 3 = 3.\n",
    "\n",
    "(iv) ** is the exponentiation operator. It raises a number to a power. For example, 2 ** 3 = 8."
   ]
  },
  {
   "cell_type": "markdown",
   "id": "79e33c5a-c138-4774-b2ee-73ffa323e08d",
   "metadata": {},
   "source": [
    "Q4. Create a list of length 10 of your choice containing multiple types of data. Using for loop print the \n",
    "element and its data type."
   ]
  },
  {
   "cell_type": "code",
   "execution_count": 3,
   "id": "8f5c9fae-bc51-45e4-8851-fed002831200",
   "metadata": {},
   "outputs": [
    {
     "name": "stdout",
     "output_type": "stream",
     "text": [
      "1 <class 'int'>\n",
      "2 <class 'int'>\n",
      "3 <class 'int'>\n",
      "4 <class 'int'>\n",
      "5 <class 'int'>\n",
      "6 <class 'int'>\n",
      "False <class 'bool'>\n",
      "True <class 'bool'>\n",
      "18.0 <class 'float'>\n",
      "Arpit <class 'str'>\n"
     ]
    }
   ],
   "source": [
    "#Ans 4:\n",
    "\n",
    "list = [1,2,3,4,5,6,False,True,18.00,\"Arpit\",]\n",
    "\n",
    "for i in list:\n",
    "    print(i, type(i))"
   ]
  },
  {
   "cell_type": "markdown",
   "id": "98f0a58b-ef33-4cb8-9588-c1e6e6ab44ad",
   "metadata": {},
   "source": [
    "Q5. Using a while loop, verify if the number A is purely divisible by number B and if so then how many \n",
    "times it can be divisible"
   ]
  },
  {
   "cell_type": "code",
   "execution_count": 10,
   "id": "8ebc677c-75bc-4e1d-81e1-a22987c8d35b",
   "metadata": {},
   "outputs": [
    {
     "name": "stdin",
     "output_type": "stream",
     "text": [
      " 50\n",
      " 5\n"
     ]
    },
    {
     "name": "stdout",
     "output_type": "stream",
     "text": [
      "A is purely divisible by number B and it is divisible by  10.0 Times\n"
     ]
    }
   ],
   "source": [
    "#Ans:\n",
    "a = int(input())\n",
    "b = int(input())\n",
    "\n",
    "while a%b ==0:\n",
    "    print(\"A is purely divisible by number B and it is divisible by \", a/b, \"Times\")\n",
    "    break"
   ]
  },
  {
   "cell_type": "markdown",
   "id": "f7ecc34a-eaba-4983-b9a9-a6f24fc3bd36",
   "metadata": {},
   "source": [
    "Q6. Create a list containing 25 int type data. Using for loop and if-else condition print if the element is \n",
    "divisible by 3 or not."
   ]
  },
  {
   "cell_type": "code",
   "execution_count": 18,
   "id": "5399b4f3-e2ab-43cf-ac4c-39a765473192",
   "metadata": {},
   "outputs": [
    {
     "name": "stdout",
     "output_type": "stream",
     "text": [
      "1 is not divisible by 3\n",
      "2 is not divisible by 3\n",
      "Yes 3 is divisible by 3\n",
      "4 is not divisible by 3\n",
      "5 is not divisible by 3\n",
      "Yes 6 is divisible by 3\n",
      "7 is not divisible by 3\n",
      "8 is not divisible by 3\n",
      "Yes 9 is divisible by 3\n",
      "10 is not divisible by 3\n",
      "11 is not divisible by 3\n",
      "Yes 12 is divisible by 3\n",
      "13 is not divisible by 3\n",
      "14 is not divisible by 3\n",
      "Yes 15 is divisible by 3\n",
      "16 is not divisible by 3\n",
      "17 is not divisible by 3\n",
      "Yes 18 is divisible by 3\n",
      "19 is not divisible by 3\n",
      "20 is not divisible by 3\n",
      "Yes 21 is divisible by 3\n",
      "22 is not divisible by 3\n",
      "23 is not divisible by 3\n",
      "Yes 24 is divisible by 3\n",
      "25 is not divisible by 3\n"
     ]
    }
   ],
   "source": [
    "#Ans: \n",
    "list = [1,2,3,4,5,6,7,8,9,10,11,12,13,14,15,16,17,18,19,20,21,22,23,24,25]\n",
    "\n",
    "for i in list:\n",
    "    if(i%3==0):\n",
    "     print('Yes', i, \"is divisible by 3\")\n",
    "    else:\n",
    "        print(i, 'is not divisible by 3')"
   ]
  },
  {
   "cell_type": "markdown",
   "id": "140d0eaf-e192-4990-9509-1d3ff49929d7",
   "metadata": {},
   "source": [
    "Q7. What do you understand about mutable and immutable data types? Give examples for both showing \n",
    "this property"
   ]
  },
  {
   "cell_type": "code",
   "execution_count": null,
   "id": "1d721f7d-7c51-4d3b-bf26-3b4259e19bf3",
   "metadata": {},
   "outputs": [],
   "source": [
    "'''mutable data types are those that can be changed after they are created. \n",
    "Examples of mutable data types include lists, dictionaries, and sets. \n",
    "For example, you can add or remove elements from a list after it is created.\n",
    "\n",
    "On the other hand, immutable data types are those that cannot be changed after they are created. \n",
    "Examples of immutable data types include strings, tuples, and numbers. \n",
    "For example, you cannot change a string once it is created.'''\n",
    "\n",
    "#Mutable data types:\n",
    "\n",
    "#Lists: You can add or remove elements from a list after it is created. \n",
    "#For example:\n",
    "my_list = [1, 2, 3]\n",
    "my_list.append(4)\n",
    "print(my_list) # Output: [1, 2, 3, 4]\n",
    "\n",
    "Dictionaries: You can add or remove key-value pairs from a dictionary after it is created. \n",
    "For example:\n",
    "my_dict = {'name': 'John', 'age': 25}\n",
    "my_dict['city'] = 'New York'\n",
    "print(my_dict) # Output: {'name': 'John', 'age': 25, 'city': 'New York'}\n",
    "Copy\n",
    "Immutable data types:\n",
    "\n",
    "Strings: You cannot change a string once it is created. For example:\n",
    "my_string = 'Hello'\n",
    "my_string[0] = 'J' # This will result in an error\n",
    "Copy\n",
    "Tuples: You cannot change a tuple once it is created. For example:\n",
    "my_tuple = (1, 2, 3)\n",
    "my_tuple[0] = 4 # This will result in an error"
   ]
  }
 ],
 "metadata": {
  "kernelspec": {
   "display_name": "Python 3 (ipykernel)",
   "language": "python",
   "name": "python3"
  },
  "language_info": {
   "codemirror_mode": {
    "name": "ipython",
    "version": 3
   },
   "file_extension": ".py",
   "mimetype": "text/x-python",
   "name": "python",
   "nbconvert_exporter": "python",
   "pygments_lexer": "ipython3",
   "version": "3.10.8"
  }
 },
 "nbformat": 4,
 "nbformat_minor": 5
}
