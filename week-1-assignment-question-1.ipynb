{
 "cells": [
  {
   "cell_type": "code",
   "execution_count": 4,
   "id": "53d51229-15c1-4893-b9a9-3efd55039c35",
   "metadata": {},
   "outputs": [
    {
     "name": "stdout",
     "output_type": "stream",
     "text": [
      "<class 'str'>\n"
     ]
    }
   ],
   "source": [
    "#Question 1 Creating varibales for each of the data types: - \n",
    "\n",
    "#1. String\n",
    "string = 'Arpit'\n",
    "print(type(string))"
   ]
  },
  {
   "cell_type": "code",
   "execution_count": 3,
   "id": "fe7f8f1d-fee8-4e34-86c6-5200e51a35a1",
   "metadata": {},
   "outputs": [
    {
     "name": "stdout",
     "output_type": "stream",
     "text": [
      "<class 'list'>\n"
     ]
    }
   ],
   "source": [
    "#2. List \n",
    "list= [1,'Arpit',20.00,True]\n",
    "print(type(list))"
   ]
  },
  {
   "cell_type": "code",
   "execution_count": 5,
   "id": "b264945b-fee7-4b4e-9350-0f7db90be1d8",
   "metadata": {},
   "outputs": [
    {
     "name": "stdout",
     "output_type": "stream",
     "text": [
      "<class 'float'>\n"
     ]
    }
   ],
   "source": [
    "#3. Float\n",
    "f = 20.00\n",
    "print(type(f))"
   ]
  },
  {
   "cell_type": "code",
   "execution_count": null,
   "id": "ba18a45e-8372-412c-9318-042822ac1002",
   "metadata": {},
   "outputs": [],
   "source": []
  }
 ],
 "metadata": {
  "kernelspec": {
   "display_name": "Python 3 (ipykernel)",
   "language": "python",
   "name": "python3"
  },
  "language_info": {
   "codemirror_mode": {
    "name": "ipython",
    "version": 3
   },
   "file_extension": ".py",
   "mimetype": "text/x-python",
   "name": "python",
   "nbconvert_exporter": "python",
   "pygments_lexer": "ipython3",
   "version": "3.10.8"
  }
 },
 "nbformat": 4,
 "nbformat_minor": 5
}
